{
 "cells": [
  {
   "cell_type": "code",
   "execution_count": 1,
   "metadata": {},
   "outputs": [],
   "source": [
    "import os\n",
    "import re\n",
    "#W2V\n",
    "from gensim.models import Word2Vec\n",
    "from nltk.corpus import stopwords"
   ]
  },
  {
   "cell_type": "code",
   "execution_count": 3,
   "metadata": {},
   "outputs": [
    {
     "name": "stdout",
     "output_type": "stream",
     "text": [
      "climate: [('cc', 0.6040445566177368), ('behavioural', 0.5667223334312439), ('transformational', 0.5275135636329651), ('systemic', 0.5159832239151001), ('behavioral', 0.5061660408973694), ('climatic', 0.48612093925476074), ('theory', 0.4787351191043854), ('snrm', 0.44460588693618774), ('changes14', 0.442379355430603), ('behaviour', 0.43425530195236206), ('cis', 0.4311087429523468), ('adapt', 0.42795413732528687), ('glof', 0.41736578941345215), ('transformative', 0.41529393196105957), ('livelihoods', 0.41375717520713806), ('glofs', 0.41179803013801575), ('combine', 0.40862709283828735), ('catalysts', 0.406525194644928), ('strategies', 0.40532392263412476), ('agriculture', 0.40394705533981323), ('compounding', 0.39950883388519287), ('drr', 0.39924854040145874), ('mitigating', 0.3978663384914398), ('innovativedevelopment', 0.3872810900211334), ('mitigate', 0.38679689168930054), ('disaster', 0.38476285338401794), ('coastal', 0.3845866918563843), ('adaptability', 0.38023024797439575), ('adapting', 0.3793134391307831), ('adaptation', 0.37861570715904236)]\n",
      "climate change: [('change', 0.7739070653915405), ('cc', 0.7606278657913208), ('climate', 0.7081663012504578), ('threats', 0.5486392378807068), ('vulnerabilities', 0.5424802303314209), ('glofs', 0.5374335646629333), ('adverse', 0.5309047102928162), ('variability', 0.5206513404846191), ('adapt', 0.5147532820701599), ('climatechange', 0.5100172758102417)]\n"
     ]
    }
   ],
   "source": [
    "# Write the list of words and n-grams to expand\n",
    "climate = ['insert word or n-gram']\n",
    "\n",
    "# Point the folder containing the text files\n",
    "folder = './INSERT FOLDER'\n",
    "\n",
    "# Load the set of stopwords\n",
    "stop_words = set(stopwords.words('english'))\n",
    "\n",
    "regex = re.compile('[^a-zA-Z0-9]')\n",
    "\n",
    "# Pepare text\n",
    "sentences = []\n",
    "for filename in os.listdir(folder):\n",
    "    if filename.endswith('.txt'):\n",
    "        with open(os.path.join(folder, filename), 'r') as f:\n",
    "            text = f.read().lower()\n",
    "            text = regex.sub(' ', text)\n",
    "            words = [word for word in text.split() if word not in stop_words]\n",
    "            sentences.append(words)\n",
    "\n",
    "# Train a Word2Vec model\n",
    "model = Word2Vec(sentences, min_count=5, window=5, vector_size=100, workers=4)\n",
    "\n",
    "# Print output\n",
    "for phrase in climate:\n",
    "    if ' ' in phrase:\n",
    "        # Handle n-grams\n",
    "        words = phrase.split()\n",
    "        vectors = [model.wv[word] for word in words if word in model.wv]\n",
    "        if len(vectors) > 0:\n",
    "            phrase_vector = sum(vectors) / len(vectors)\n",
    "            print(f\"{phrase}: {model.wv.similar_by_vector(phrase_vector, topn=10)}\")\n",
    "    else:\n",
    "        # Handle single words\n",
    "        print(f\"{phrase}: {model.wv.most_similar(phrase, topn=30)}\")\n"
   ]
  }
 ],
 "metadata": {
  "kernelspec": {
   "display_name": "base",
   "language": "python",
   "name": "python3"
  },
  "language_info": {
   "codemirror_mode": {
    "name": "ipython",
    "version": 3
   },
   "file_extension": ".py",
   "mimetype": "text/x-python",
   "name": "python",
   "nbconvert_exporter": "python",
   "pygments_lexer": "ipython3",
   "version": "3.8.13"
  },
  "orig_nbformat": 4,
  "vscode": {
   "interpreter": {
    "hash": "df6a8c26971e94b7f8e04ae2b63413e05f265476cd0a3206034812b2c9bc52e3"
   }
  }
 },
 "nbformat": 4,
 "nbformat_minor": 2
}
